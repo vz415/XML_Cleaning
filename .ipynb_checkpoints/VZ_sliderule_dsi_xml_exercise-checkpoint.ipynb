{
 "cells": [
  {
   "cell_type": "markdown",
   "metadata": {},
   "source": [
    "# XML example and exercise\n",
    "****\n",
    "+ study examples of accessing nodes in XML tree structure  \n",
    "+ work on exercise to be completed and submitted\n",
    "****\n",
    "+ reference: https://docs.python.org/2.7/library/xml.etree.elementtree.html\n",
    "+ data source: http://www.dbis.informatik.uni-goettingen.de/Mondial\n",
    "****"
   ]
  },
  {
   "cell_type": "code",
   "execution_count": 1,
   "metadata": {
    "collapsed": true
   },
   "outputs": [],
   "source": [
    "from xml.etree import ElementTree as ET"
   ]
  },
  {
   "cell_type": "markdown",
   "metadata": {},
   "source": [
    "## XML example\n",
    "\n",
    "+ for details about tree traversal and iterators, see https://docs.python.org/2.7/library/xml.etree.elementtree.html"
   ]
  },
  {
   "cell_type": "code",
   "execution_count": 2,
   "metadata": {
    "collapsed": false
   },
   "outputs": [],
   "source": [
    "document_tree = ET.parse( './data/mondial_database_less.xml' )"
   ]
  },
  {
   "cell_type": "code",
   "execution_count": 3,
   "metadata": {
    "collapsed": false
   },
   "outputs": [
    {
     "name": "stdout",
     "output_type": "stream",
     "text": [
      "Albania\n",
      "Greece\n",
      "Macedonia\n",
      "Serbia\n",
      "Montenegro\n",
      "Kosovo\n",
      "Andorra\n"
     ]
    }
   ],
   "source": [
    "# print names of all countries in XML document\n",
    "for child in document_tree.getroot():\n",
    "    print(child.find('name').text)"
   ]
  },
  {
   "cell_type": "code",
   "execution_count": 4,
   "metadata": {
    "collapsed": false
   },
   "outputs": [
    {
     "name": "stdout",
     "output_type": "stream",
     "text": [
      "Tirana, Shkodër, Durrës, Vlorë, Elbasan, Korçë\n",
      "Tirana, Shkodër, Durrës, Vlorë, Elbasan, Korçë, Komotini, Kavala, Athina, Peiraias, Peristeri, Acharnes, Patra, Kozani, Kerkyra, Ioannina, Thessaloniki, Iraklio, Chania, Ermoupoli, Rhodes, Tripoli, Lamia, Chalkida, Larissa, Volos, Mytilini, Karyes\n",
      "Tirana, Shkodër, Durrës, Vlorë, Elbasan, Korçë, Komotini, Kavala, Athina, Peiraias, Peristeri, Acharnes, Patra, Kozani, Kerkyra, Ioannina, Thessaloniki, Iraklio, Chania, Ermoupoli, Rhodes, Tripoli, Lamia, Chalkida, Larissa, Volos, Mytilini, Karyes, Skopje, Kumanovo\n",
      "Tirana, Shkodër, Durrës, Vlorë, Elbasan, Korçë, Komotini, Kavala, Athina, Peiraias, Peristeri, Acharnes, Patra, Kozani, Kerkyra, Ioannina, Thessaloniki, Iraklio, Chania, Ermoupoli, Rhodes, Tripoli, Lamia, Chalkida, Larissa, Volos, Mytilini, Karyes, Skopje, Kumanovo, Beograd, Novi Sad, Niš\n",
      "Tirana, Shkodër, Durrës, Vlorë, Elbasan, Korçë, Komotini, Kavala, Athina, Peiraias, Peristeri, Acharnes, Patra, Kozani, Kerkyra, Ioannina, Thessaloniki, Iraklio, Chania, Ermoupoli, Rhodes, Tripoli, Lamia, Chalkida, Larissa, Volos, Mytilini, Karyes, Skopje, Kumanovo, Beograd, Novi Sad, Niš, Podgorica\n",
      "Tirana, Shkodër, Durrës, Vlorë, Elbasan, Korçë, Komotini, Kavala, Athina, Peiraias, Peristeri, Acharnes, Patra, Kozani, Kerkyra, Ioannina, Thessaloniki, Iraklio, Chania, Ermoupoli, Rhodes, Tripoli, Lamia, Chalkida, Larissa, Volos, Mytilini, Karyes, Skopje, Kumanovo, Beograd, Novi Sad, Niš, Podgorica, Prishtine\n",
      "Tirana, Shkodër, Durrës, Vlorë, Elbasan, Korçë, Komotini, Kavala, Athina, Peiraias, Peristeri, Acharnes, Patra, Kozani, Kerkyra, Ioannina, Thessaloniki, Iraklio, Chania, Ermoupoli, Rhodes, Tripoli, Lamia, Chalkida, Larissa, Volos, Mytilini, Karyes, Skopje, Kumanovo, Beograd, Novi Sad, Niš, Podgorica, Prishtine, Andorra la Vella\n"
     ]
    }
   ],
   "source": [
    "# print names of all countries and their cities\n",
    "# Had to add following string because 'variable is not named' error occurred...\n",
    "capitals_string = ''\n",
    "for element in document_tree.iterfind('country'):\n",
    "    #print('* ' + element.find('name').text + ':' + capitals_string = '')\n",
    "    for subelement in element.getiterator('city'):\n",
    "        capitals_string += subelement.find('name').text + ', '\n",
    "    print(capitals_string[:-2])"
   ]
  },
  {
   "cell_type": "markdown",
   "metadata": {},
   "source": [
    "****\n",
    "## XML exercise\n",
    "\n",
    "Using data in 'data/mondial_database.xml', the examples above, and refering to https://docs.python.org/2.7/library/xml.etree.elementtree.html, find\n",
    "\n",
    "1. 10 countries with the lowest infant mortality rates\n",
    "2. 10 cities with the largest population\n",
    "3. 10 ethnic groups with the largest overall populations (sum of best/latest estimates over all countries)\n",
    "4. name and country of a) longest river, b) largest lake and c) airport at highest elevation"
   ]
  },
  {
   "cell_type": "code",
   "execution_count": 5,
   "metadata": {
    "collapsed": false,
    "scrolled": true
   },
   "outputs": [],
   "source": [
    "import pandas as pd\n",
    "document = ET.parse( './data/mondial_database.xml' )\n",
    "document_root = document.getroot()"
   ]
  },
  {
   "cell_type": "markdown",
   "metadata": {},
   "source": [
    "### Part 1: Find 10 countries with the lowest infant mortality rates."
   ]
  },
  {
   "cell_type": "code",
   "execution_count": 6,
   "metadata": {
    "collapsed": false,
    "scrolled": true
   },
   "outputs": [
    {
     "data": {
      "text/html": [
       "<div>\n",
       "<table border=\"1\" class=\"dataframe\">\n",
       "  <thead>\n",
       "    <tr style=\"text-align: right;\">\n",
       "      <th></th>\n",
       "      <th>country</th>\n",
       "      <th>infant_mortality</th>\n",
       "    </tr>\n",
       "  </thead>\n",
       "  <tbody>\n",
       "    <tr>\n",
       "      <th>0</th>\n",
       "      <td>Albania</td>\n",
       "      <td>13.19</td>\n",
       "    </tr>\n",
       "    <tr>\n",
       "      <th>1</th>\n",
       "      <td>Greece</td>\n",
       "      <td>4.78</td>\n",
       "    </tr>\n",
       "    <tr>\n",
       "      <th>2</th>\n",
       "      <td>Macedonia</td>\n",
       "      <td>7.9</td>\n",
       "    </tr>\n",
       "    <tr>\n",
       "      <th>3</th>\n",
       "      <td>Serbia</td>\n",
       "      <td>6.16</td>\n",
       "    </tr>\n",
       "    <tr>\n",
       "      <th>4</th>\n",
       "      <td>Andorra</td>\n",
       "      <td>3.69</td>\n",
       "    </tr>\n",
       "  </tbody>\n",
       "</table>\n",
       "</div>"
      ],
      "text/plain": [
       "     country infant_mortality\n",
       "0    Albania            13.19\n",
       "1     Greece             4.78\n",
       "2  Macedonia              7.9\n",
       "3     Serbia             6.16\n",
       "4    Andorra             3.69"
      ]
     },
     "execution_count": 6,
     "metadata": {},
     "output_type": "execute_result"
    }
   ],
   "source": [
    "# dataframe for the population measurement with year and country \n",
    "df_infant_mortality = pd.DataFrame(columns=[\"country\", \"infant_mortality\"])\n",
    "\n",
    "# iterate over xml - tree and extract\n",
    "# country and infant mortality\n",
    "for country in document_root.getiterator(\"country\"):\n",
    "    if country.findall(\"infant_mortality\") is None:\n",
    "        continue;\n",
    "        \n",
    "    for elem in country.findall(\"infant_mortality\"):\n",
    "        infant_mortality = elem.text\n",
    "            \n",
    "        df_infant_mortality = df_infant_mortality.append(\n",
    "        {\n",
    "            \"country\": country.find(\"name\").text,\n",
    "            \"infant_mortality\": infant_mortality\n",
    "        }, ignore_index=True)    \n",
    "\n",
    "# Checking the results\n",
    "df_infant_mortality.head()"
   ]
  },
  {
   "cell_type": "code",
   "execution_count": 7,
   "metadata": {
    "collapsed": false
   },
   "outputs": [
    {
     "data": {
      "text/html": [
       "<div>\n",
       "<table border=\"1\" class=\"dataframe\">\n",
       "  <thead>\n",
       "    <tr style=\"text-align: right;\">\n",
       "      <th></th>\n",
       "      <th>country</th>\n",
       "      <th>infant_mortality</th>\n",
       "    </tr>\n",
       "  </thead>\n",
       "  <tbody>\n",
       "    <tr>\n",
       "      <th>36</th>\n",
       "      <td>Monaco</td>\n",
       "      <td>1.81</td>\n",
       "    </tr>\n",
       "    <tr>\n",
       "      <th>90</th>\n",
       "      <td>Japan</td>\n",
       "      <td>2.13</td>\n",
       "    </tr>\n",
       "    <tr>\n",
       "      <th>109</th>\n",
       "      <td>Bermuda</td>\n",
       "      <td>2.48</td>\n",
       "    </tr>\n",
       "    <tr>\n",
       "      <th>34</th>\n",
       "      <td>Norway</td>\n",
       "      <td>2.48</td>\n",
       "    </tr>\n",
       "    <tr>\n",
       "      <th>98</th>\n",
       "      <td>Singapore</td>\n",
       "      <td>2.53</td>\n",
       "    </tr>\n",
       "    <tr>\n",
       "      <th>35</th>\n",
       "      <td>Sweden</td>\n",
       "      <td>2.60</td>\n",
       "    </tr>\n",
       "    <tr>\n",
       "      <th>8</th>\n",
       "      <td>Czech Republic</td>\n",
       "      <td>2.63</td>\n",
       "    </tr>\n",
       "    <tr>\n",
       "      <th>72</th>\n",
       "      <td>Hong Kong</td>\n",
       "      <td>2.73</td>\n",
       "    </tr>\n",
       "    <tr>\n",
       "      <th>73</th>\n",
       "      <td>Macao</td>\n",
       "      <td>3.13</td>\n",
       "    </tr>\n",
       "    <tr>\n",
       "      <th>39</th>\n",
       "      <td>Iceland</td>\n",
       "      <td>3.15</td>\n",
       "    </tr>\n",
       "  </tbody>\n",
       "</table>\n",
       "</div>"
      ],
      "text/plain": [
       "            country  infant_mortality\n",
       "36           Monaco              1.81\n",
       "90            Japan              2.13\n",
       "109         Bermuda              2.48\n",
       "34           Norway              2.48\n",
       "98        Singapore              2.53\n",
       "35           Sweden              2.60\n",
       "8    Czech Republic              2.63\n",
       "72        Hong Kong              2.73\n",
       "73            Macao              3.13\n",
       "39          Iceland              3.15"
      ]
     },
     "execution_count": 7,
     "metadata": {},
     "output_type": "execute_result"
    }
   ],
   "source": [
    "df_infant_mortality[\"infant_mortality\"] = pd.to_numeric(df_infant_mortality[\"infant_mortality\"])\n",
    "b = df_infant_mortality.sort_values(\"infant_mortality\")\n",
    "\n",
    "# 10 countries with the lowest infant mortalities, presented.\n",
    "b.head(10)"
   ]
  },
  {
   "cell_type": "markdown",
   "metadata": {},
   "source": [
    "### Part 2: Find 10 cities with the largest population"
   ]
  },
  {
   "cell_type": "code",
   "execution_count": 8,
   "metadata": {
    "collapsed": false
   },
   "outputs": [],
   "source": [
    "# dataframe for the population measurement with year and country \n",
    "df_city_pop = pd.DataFrame(columns=[\"city\", \"year\", \"population\"])\n",
    "\n",
    "# iterate over xml - tree and extract\n",
    "# city, year and population\n",
    "for country in document_root.getiterator(\"country\"):\n",
    "    for city in country.iter(\"city\"):\n",
    "        city_name = city.find(\"name\").text\n",
    "        \n",
    "        if city.findall(\"population\") is None:\n",
    "            continue;\n",
    "        \n",
    "        for pop in city.findall(\"population\"):\n",
    "            year = pop.attrib[\"year\"]\n",
    "            population = pop.text\n",
    "            \n",
    "            df_city_pop = df_city_pop.append(\n",
    "            {\n",
    "                \"city\": city_name,\n",
    "                \"year\": year,\n",
    "                \"population\": population\n",
    "            }, ignore_index=True)\n",
    "            "
   ]
  },
  {
   "cell_type": "code",
   "execution_count": 9,
   "metadata": {
    "collapsed": false,
    "scrolled": false
   },
   "outputs": [
    {
     "data": {
      "text/html": [
       "<div>\n",
       "<table border=\"1\" class=\"dataframe\">\n",
       "  <thead>\n",
       "    <tr style=\"text-align: right;\">\n",
       "      <th></th>\n",
       "      <th>city</th>\n",
       "      <th>year</th>\n",
       "      <th>population</th>\n",
       "    </tr>\n",
       "  </thead>\n",
       "  <tbody>\n",
       "    <tr>\n",
       "      <th>3750</th>\n",
       "      <td>Shanghai</td>\n",
       "      <td>2010</td>\n",
       "      <td>22315474</td>\n",
       "    </tr>\n",
       "    <tr>\n",
       "      <th>2607</th>\n",
       "      <td>Istanbul</td>\n",
       "      <td>2012</td>\n",
       "      <td>13710512</td>\n",
       "    </tr>\n",
       "    <tr>\n",
       "      <th>4398</th>\n",
       "      <td>Delhi</td>\n",
       "      <td>2001</td>\n",
       "      <td>12877470</td>\n",
       "    </tr>\n",
       "    <tr>\n",
       "      <th>4303</th>\n",
       "      <td>Mumbai</td>\n",
       "      <td>2011</td>\n",
       "      <td>12442373</td>\n",
       "    </tr>\n",
       "    <tr>\n",
       "      <th>1546</th>\n",
       "      <td>Moskva</td>\n",
       "      <td>2013</td>\n",
       "      <td>11979529</td>\n",
       "    </tr>\n",
       "    <tr>\n",
       "      <th>3746</th>\n",
       "      <td>Beijing</td>\n",
       "      <td>2010</td>\n",
       "      <td>11716620</td>\n",
       "    </tr>\n",
       "    <tr>\n",
       "      <th>8208</th>\n",
       "      <td>São Paulo</td>\n",
       "      <td>2010</td>\n",
       "      <td>11152344</td>\n",
       "    </tr>\n",
       "    <tr>\n",
       "      <th>3754</th>\n",
       "      <td>Tianjin</td>\n",
       "      <td>2010</td>\n",
       "      <td>11090314</td>\n",
       "    </tr>\n",
       "    <tr>\n",
       "      <th>3364</th>\n",
       "      <td>Guangzhou</td>\n",
       "      <td>2010</td>\n",
       "      <td>11071424</td>\n",
       "    </tr>\n",
       "    <tr>\n",
       "      <th>3371</th>\n",
       "      <td>Shenzhen</td>\n",
       "      <td>2010</td>\n",
       "      <td>10358381</td>\n",
       "    </tr>\n",
       "  </tbody>\n",
       "</table>\n",
       "</div>"
      ],
      "text/plain": [
       "           city  year  population\n",
       "3750   Shanghai  2010    22315474\n",
       "2607   Istanbul  2012    13710512\n",
       "4398      Delhi  2001    12877470\n",
       "4303     Mumbai  2011    12442373\n",
       "1546     Moskva  2013    11979529\n",
       "3746    Beijing  2010    11716620\n",
       "8208  São Paulo  2010    11152344\n",
       "3754    Tianjin  2010    11090314\n",
       "3364  Guangzhou  2010    11071424\n",
       "3371   Shenzhen  2010    10358381"
      ]
     },
     "execution_count": 9,
     "metadata": {},
     "output_type": "execute_result"
    }
   ],
   "source": [
    "# Sorting and filtering, or vice-versa\n",
    "c = df_city_pop \n",
    "c.population = pd.to_numeric(c.population)\n",
    "c = c.sort_values(\"population\", ascending=False)\n",
    "\n",
    "# Getting rid of any duplicates - drop everything but the first duplicate\n",
    "c = c.drop_duplicates([\"city\"], keep='first')\n",
    "\n",
    "# Showing off the data\n",
    "c.head(10)"
   ]
  },
  {
   "cell_type": "markdown",
   "metadata": {},
   "source": [
    "### Part 3: Find 10 ethinic groups with the largest overall populations (sum of best/latest estimates over all countries)"
   ]
  },
  {
   "cell_type": "code",
   "execution_count": 10,
   "metadata": {
    "collapsed": false
   },
   "outputs": [
    {
     "data": {
      "text/html": [
       "<div>\n",
       "<table border=\"1\" class=\"dataframe\">\n",
       "  <thead>\n",
       "    <tr style=\"text-align: right;\">\n",
       "      <th></th>\n",
       "      <th>country</th>\n",
       "      <th>ethnicgroup</th>\n",
       "      <th>fraction</th>\n",
       "    </tr>\n",
       "  </thead>\n",
       "  <tbody>\n",
       "    <tr>\n",
       "      <th>627</th>\n",
       "      <td>Seychelles</td>\n",
       "      <td>Seychellois</td>\n",
       "      <td>1.0</td>\n",
       "    </tr>\n",
       "    <tr>\n",
       "      <th>452</th>\n",
       "      <td>Wallis and Futuna</td>\n",
       "      <td>Polynesian</td>\n",
       "      <td>1.0</td>\n",
       "    </tr>\n",
       "    <tr>\n",
       "      <th>152</th>\n",
       "      <td>Guernsey</td>\n",
       "      <td>Norman-French</td>\n",
       "      <td>1.0</td>\n",
       "    </tr>\n",
       "    <tr>\n",
       "      <th>153</th>\n",
       "      <td>Iceland</td>\n",
       "      <td>Celt</td>\n",
       "      <td>1.0</td>\n",
       "    </tr>\n",
       "    <tr>\n",
       "      <th>157</th>\n",
       "      <td>Jersey</td>\n",
       "      <td>Norman-French</td>\n",
       "      <td>1.0</td>\n",
       "    </tr>\n",
       "    <tr>\n",
       "      <th>368</th>\n",
       "      <td>Dominica</td>\n",
       "      <td>Carib Indians</td>\n",
       "      <td>1.0</td>\n",
       "    </tr>\n",
       "    <tr>\n",
       "      <th>384</th>\n",
       "      <td>Grenada</td>\n",
       "      <td>African</td>\n",
       "      <td>1.0</td>\n",
       "    </tr>\n",
       "    <tr>\n",
       "      <th>402</th>\n",
       "      <td>Saint Kitts and Nevis</td>\n",
       "      <td>African</td>\n",
       "      <td>1.0</td>\n",
       "    </tr>\n",
       "    <tr>\n",
       "      <th>405</th>\n",
       "      <td>Saint Pierre and Miquelon</td>\n",
       "      <td>Basques Bretons</td>\n",
       "      <td>1.0</td>\n",
       "    </tr>\n",
       "    <tr>\n",
       "      <th>422</th>\n",
       "      <td>Kiribati</td>\n",
       "      <td>Micronesian</td>\n",
       "      <td>1.0</td>\n",
       "    </tr>\n",
       "  </tbody>\n",
       "</table>\n",
       "</div>"
      ],
      "text/plain": [
       "                       country      ethnicgroup  fraction\n",
       "627                 Seychelles      Seychellois       1.0\n",
       "452          Wallis and Futuna       Polynesian       1.0\n",
       "152                   Guernsey    Norman-French       1.0\n",
       "153                    Iceland             Celt       1.0\n",
       "157                     Jersey    Norman-French       1.0\n",
       "368                   Dominica    Carib Indians       1.0\n",
       "384                    Grenada          African       1.0\n",
       "402      Saint Kitts and Nevis          African       1.0\n",
       "405  Saint Pierre and Miquelon  Basques Bretons       1.0\n",
       "422                   Kiribati      Micronesian       1.0"
      ]
     },
     "execution_count": 10,
     "metadata": {},
     "output_type": "execute_result"
    }
   ],
   "source": [
    "# Code courtesy of Andrew Maguire - because I had no idea how to use pandas with XML!\n",
    "# Thanks, Andrew.\n",
    "# dataframe for fraction of each ethnic group in country\n",
    "df_ethnic_groups_fraction = pd.DataFrame(columns=[\"country\", \"ethnicgroup\", \"fraction\"])\n",
    "document_root = document.getroot()\n",
    "\n",
    "for country in document_root.getiterator(\"country\"):\n",
    "    for element in list(country):\n",
    "        if element.tag == \"ethnicgroup\":\n",
    "            df_ethnic_groups_fraction = df_ethnic_groups_fraction.append({\n",
    "                \"country\": country.find(\"name\").text,\n",
    "                \"ethnicgroup\": element.text,\n",
    "                \"fraction\": element.attrib[\"percentage\"]\n",
    "            }, ignore_index=True)\n",
    "            \n",
    "# convert fraction to numeric\n",
    "df_ethnic_groups_fraction[\"fraction\"] = pd.to_numeric(df_ethnic_groups_fraction[\"fraction\"])\n",
    "\n",
    "# get fraction between 0 and 1\n",
    "df_ethnic_groups_fraction[\"fraction\"] = df_ethnic_groups_fraction[\"fraction\"] / 100\n",
    "\n",
    "d = df_ethnic_groups_fraction.sort_values(\"fraction\", ascending=False)\n",
    "d.head(10)"
   ]
  },
  {
   "cell_type": "markdown",
   "metadata": {},
   "source": [
    "### Part 4: Name and country of a) longest river, b) largest lake and c) airport at highest elevation\n",
    "*longest river*"
   ]
  },
  {
   "cell_type": "code",
   "execution_count": 11,
   "metadata": {
    "collapsed": false
   },
   "outputs": [
    {
     "data": {
      "text/html": [
       "<div>\n",
       "<table border=\"1\" class=\"dataframe\">\n",
       "  <thead>\n",
       "    <tr style=\"text-align: right;\">\n",
       "      <th></th>\n",
       "      <th>country_code</th>\n",
       "      <th>river</th>\n",
       "      <th>river_length</th>\n",
       "    </tr>\n",
       "  </thead>\n",
       "  <tbody>\n",
       "    <tr>\n",
       "      <th>174</th>\n",
       "      <td>CO BR PE</td>\n",
       "      <td>Amazonas</td>\n",
       "      <td>6448.0</td>\n",
       "    </tr>\n",
       "  </tbody>\n",
       "</table>\n",
       "</div>"
      ],
      "text/plain": [
       "    country_code     river  river_length\n",
       "174     CO BR PE  Amazonas        6448.0"
      ]
     },
     "execution_count": 11,
     "metadata": {},
     "output_type": "execute_result"
    }
   ],
   "source": [
    "# dataframe for the population measurement with year and country \n",
    "df_rivers = pd.DataFrame(columns=[\"country_code\", \"river\", \"river_length\"])\n",
    "\n",
    "# country, river and river_length. Country is an attribute.\n",
    "# Name and length are text values.\n",
    "for river in document_root.getiterator(\"river\"):\n",
    "    if river.find(\"length\") is None:\n",
    "        continue;\n",
    "    country = river.attrib[\"country\"]\n",
    "    river_length = river.find('length').text\n",
    "            \n",
    "    df_rivers = df_rivers.append(\n",
    "    {\n",
    "        \"country_code\": country,\n",
    "        \"river\": river.find(\"name\").text,\n",
    "        \"river_length\": river_length\n",
    "    }, ignore_index=True)\n",
    "\n",
    "# Finding max river\n",
    "df_rivers.river_length = pd.to_numeric(df_rivers.river_length)\n",
    "e = df_rivers.sort_values(\"river_length\", ascending=False)\n",
    "e.head(1)"
   ]
  },
  {
   "cell_type": "markdown",
   "metadata": {},
   "source": [
    "*largest lake*"
   ]
  },
  {
   "cell_type": "code",
   "execution_count": 12,
   "metadata": {
    "collapsed": false
   },
   "outputs": [
    {
     "data": {
      "text/html": [
       "<div>\n",
       "<table border=\"1\" class=\"dataframe\">\n",
       "  <thead>\n",
       "    <tr style=\"text-align: right;\">\n",
       "      <th></th>\n",
       "      <th>country_code</th>\n",
       "      <th>lake</th>\n",
       "      <th>lake_area</th>\n",
       "    </tr>\n",
       "  </thead>\n",
       "  <tbody>\n",
       "    <tr>\n",
       "      <th>54</th>\n",
       "      <td>R AZ KAZ IR TM</td>\n",
       "      <td>Caspian Sea</td>\n",
       "      <td>386400.0</td>\n",
       "    </tr>\n",
       "  </tbody>\n",
       "</table>\n",
       "</div>"
      ],
      "text/plain": [
       "      country_code         lake  lake_area\n",
       "54  R AZ KAZ IR TM  Caspian Sea   386400.0"
      ]
     },
     "execution_count": 12,
     "metadata": {},
     "output_type": "execute_result"
    }
   ],
   "source": [
    "# dataframe for the population measurement with year and country \n",
    "df_lakes = pd.DataFrame(columns=[\"country_code\", \"lake\", \"lake_area\"])\n",
    "\n",
    "# Country is an attribute.\n",
    "# Name and area are text values.\n",
    "for lake in document_root.getiterator(\"lake\"):\n",
    "    if lake.find(\"area\") is None:\n",
    "        continue;\n",
    "    country = lake.attrib[\"country\"]\n",
    "    lake_area = lake.find('area').text\n",
    "            \n",
    "    df_lakes = df_lakes.append(\n",
    "    {\n",
    "        \"country_code\": country,\n",
    "        \"lake\": lake.find(\"name\").text,\n",
    "        \"lake_area\": lake_area\n",
    "    }, ignore_index=True)\n",
    "\n",
    "# Finding max river\n",
    "df_lakes.lake_area = pd.to_numeric(df_lakes.lake_area)\n",
    "f = df_lakes.sort_values(\"lake_area\", ascending=False)\n",
    "f.head(1)"
   ]
  },
  {
   "cell_type": "markdown",
   "metadata": {},
   "source": [
    "*airport at highest elevation* "
   ]
  },
  {
   "cell_type": "code",
   "execution_count": 13,
   "metadata": {
    "collapsed": false
   },
   "outputs": [
    {
     "data": {
      "text/html": [
       "<div>\n",
       "<table border=\"1\" class=\"dataframe\">\n",
       "  <thead>\n",
       "    <tr style=\"text-align: right;\">\n",
       "      <th></th>\n",
       "      <th>country_code</th>\n",
       "      <th>airport</th>\n",
       "      <th>elevation</th>\n",
       "    </tr>\n",
       "  </thead>\n",
       "  <tbody>\n",
       "    <tr>\n",
       "      <th>80</th>\n",
       "      <td>BOL</td>\n",
       "      <td>El Alto Intl</td>\n",
       "      <td>4063.0</td>\n",
       "    </tr>\n",
       "  </tbody>\n",
       "</table>\n",
       "</div>"
      ],
      "text/plain": [
       "   country_code       airport  elevation\n",
       "80          BOL  El Alto Intl     4063.0"
      ]
     },
     "execution_count": 13,
     "metadata": {},
     "output_type": "execute_result"
    }
   ],
   "source": [
    "# dataframe for the population measurement with year and country \n",
    "df_airports = pd.DataFrame(columns=[\"country_code\", \"airport\", \"elevation\"])\n",
    "\n",
    "# Country is an attribute.\n",
    "# Name and elelvation are text values.\n",
    "for ap in document_root.getiterator(\"airport\"):\n",
    "    if ap.find(\"elevation\") is None:\n",
    "        continue;\n",
    "    country = ap.attrib[\"country\"]\n",
    "    elevation = ap.find('elevation').text\n",
    "            \n",
    "    df_airports = df_airports.append(\n",
    "    {\n",
    "        \"country_code\": country,\n",
    "        \"airport\": ap.find(\"name\").text,\n",
    "        \"elevation\": elevation\n",
    "    }, ignore_index=True)\n",
    "\n",
    "# Finding max river\n",
    "df_airports.elevation = pd.to_numeric(df_airports.elevation)\n",
    "g = df_airports.sort_values(\"elevation\", ascending=False)\n",
    "g.head(1)\n",
    "# Fun fact: I was born there!"
   ]
  }
 ],
 "metadata": {
  "anaconda-cloud": {},
  "kernelspec": {
   "display_name": "Python [conda root]",
   "language": "python",
   "name": "conda-root-py"
  },
  "language_info": {
   "codemirror_mode": {
    "name": "ipython",
    "version": 3
   },
   "file_extension": ".py",
   "mimetype": "text/x-python",
   "name": "python",
   "nbconvert_exporter": "python",
   "pygments_lexer": "ipython3",
   "version": "3.5.2"
  }
 },
 "nbformat": 4,
 "nbformat_minor": 0
}
